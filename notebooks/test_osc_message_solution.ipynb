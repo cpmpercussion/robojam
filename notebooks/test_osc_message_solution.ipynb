{
 "cells": [
  {
   "cell_type": "code",
   "execution_count": null,
   "metadata": {},
   "outputs": [],
   "source": [
    "\"\"\" Plays back tiny performances by sending OSC messages to Pure Data \"\"\"\n",
    "import struct\n",
    "import socket\n",
    "import random\n",
    "from threading import Timer\n",
    "\n",
    "DEFAULT_OSC_ADDRESS = \"localhost\"\n",
    "DEFAULT_OSC_PORT = 5000\n",
    "\n",
    "\n",
    "class TouchScreenOscClient(object):\n",
    "    \"\"\"A simple OSC client for sending messages recording touch screen performances.\"\"\"\n",
    "\n",
    "    def __init__(self):\n",
    "        # just set up the socket.\n",
    "        self.sock = socket.socket(socket.AF_INET, socket.SOCK_DGRAM)\n",
    "        self.sock.setblocking(0)\n",
    "\n",
    "    def send_osc_message(self, osc_datagram, address, port):\n",
    "        \"\"\"Send OSC message via UDP.\"\"\"\n",
    "        self.sock.sendto(osc_datagram, (address, port))\n",
    "\n",
    "    def pad_dgram_four_bytes(self, dgram):\n",
    "        \"\"\"Pad a datagram up to a multiple of 4 bytes.\"\"\"\n",
    "        return (dgram + (b'\\x00' * (4 - len(dgram) % 4)))\n",
    "\n",
    "    def setSynth(self, instrument=\"strings\", address=DEFAULT_OSC_ADDRESS, port=DEFAULT_OSC_PORT):\n",
    "        \"\"\"Sends an OSC message to set the synth instrument.\"\"\"\n",
    "        dgram = b''\n",
    "        dgram += self.pad_dgram_four_bytes(\"/inst\".encode('utf-8'))\n",
    "        dgram += self.pad_dgram_four_bytes(\",s\")\n",
    "        dgram += self.pad_dgram_four_bytes(instrument.encode('utf-8'))\n",
    "        self.send_osc_message(dgram, address, port)\n",
    "\n",
    "    def setSynthRandom(self):\n",
    "        \"\"\"Choose a random synth for performance playback\"\"\"\n",
    "        self.setSynth(random.choice([\"chirp\", \"keys\", \"drums\", \"strings\"]))\n",
    "\n",
    "    def sendTouch(self, x, y, z, address=DEFAULT_OSC_ADDRESS, port=DEFAULT_OSC_PORT):\n",
    "        \"\"\"Sends an OSC message to trigger a touch sound.\"\"\"\n",
    "        dgram = b''\n",
    "        dgram += self.pad_dgram_four_bytes(\"/touch\".encode('utf-8'))\n",
    "        dgram += self.pad_dgram_four_bytes(\",sfsfsf\")\n",
    "        dgram += self.pad_dgram_four_bytes(\"/x\".encode('utf-8'))\n",
    "        dgram += struct.pack('>f', x)\n",
    "        dgram += self.pad_dgram_four_bytes(\"/y\".encode('utf-8'))\n",
    "        dgram += struct.pack('>f', y)\n",
    "        dgram += self.pad_dgram_four_bytes(\"/z\".encode('utf-8'))\n",
    "        dgram += struct.pack('>f', z)\n",
    "        self.send_osc_message(dgram, address, port)\n",
    "\n",
    "    def playPerformance(self, perf):\n",
    "        \"\"\"Schedule performance of a tiny performance dataframe.\"\"\"\n",
    "        # Dataframe must have abolute time (in seconds) as index, and 'x', 'y', and 'z' as column names.\n",
    "        for row in perf.iterrows():\n",
    "            Timer(row[0], self.sendTouch, args=[row[1]['x'], row[1]['y'], row[1]['z']]).start()\n",
    "\n",
    "    # def playPerformance_XY_only(self, perf, z=20.0):\n",
    "    #     \"\"\"Schedule playback of a tiny performance dataframe with fake z-values.\"\"\"\n",
    "    #     for row in perf.iterrows():\n",
    "    #         Timer(row[1].time, self.sendTouch, args=[row[1].x, row[1].y, z]).start()  # used with time in column\n"
   ]
  },
  {
   "cell_type": "code",
   "execution_count": null,
   "metadata": {
    "scrolled": true
   },
   "outputs": [],
   "source": [
    "# Test:\n",
    "cli = TouchScreenOscClient()\n",
    "cli.sendTouch(0.0,0.5,1.0)\n",
    "cli.setSynthRandom()"
   ]
  }
 ],
 "metadata": {
  "kernelspec": {
   "display_name": "Python 3",
   "language": "python",
   "name": "python3"
  },
  "language_info": {
   "codemirror_mode": {
    "name": "ipython",
    "version": 3
   },
   "file_extension": ".py",
   "mimetype": "text/x-python",
   "name": "python",
   "nbconvert_exporter": "python",
   "pygments_lexer": "ipython3",
   "version": "3.6.5"
  }
 },
 "nbformat": 4,
 "nbformat_minor": 2
}
