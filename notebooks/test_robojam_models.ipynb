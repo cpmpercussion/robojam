{
 "cells": [
  {
   "cell_type": "code",
   "execution_count": null,
   "metadata": {},
   "outputs": [],
   "source": [
    "import keras\n",
    "from keras import backend as K\n",
    "from keras.layers import Dense, Input\n",
    "import numpy as np\n",
    "import tensorflow as tf\n",
    "import math\n",
    "import h5py\n",
    "import random\n",
    "import time\n",
    "import pandas as pd\n",
    "from context import * # imports MDN\n",
    "import matplotlib.pyplot as plt\n",
    "from mpl_toolkits.mplot3d import Axes3D\n",
    "%matplotlib inline\n",
    "\n",
    "# Set up environment.\n",
    "# Only for GPU use:\n",
    "import os\n",
    "os.environ[\"CUDA_VISIBLE_DEVICES\"]=\"1\"\n",
    "\n",
    "import tensorflow as tf\n",
    "config = tf.ConfigProto()\n",
    "config.gpu_options.allow_growth = True\n",
    "sess = tf.Session(config=config)\n",
    "from keras import backend as K\n",
    "K.set_session(sess)"
   ]
  },
  {
   "cell_type": "markdown",
   "metadata": {},
   "source": [
    "## Helper functions for touchscreen performances\n",
    "\n",
    "We need a few helper functions for managing performances:\n",
    "    \n",
    "- Convert performances to and from pandas dataframes.\n",
    "- Generate random touches.\n",
    "- Sample whole performances from scratch and from a priming performance.\n",
    "- Plot performances including dividing into swipes."
   ]
  },
  {
   "cell_type": "markdown",
   "metadata": {},
   "source": [
    "# Load up the Dataset:\n",
    "\n",
    "The dataset consists of around 1000 5-second performances from the MicroJam app.\n",
    "\n",
    "This is in a sequence of points consisting of an x-location, a y-location, and a time-delta from the previous point.\n",
    "\n",
    "When the user swipes, the time-delta is very small, if they tap it's quite large.\n",
    "\n",
    "Let's have a look at some of the data:"
   ]
  },
  {
   "cell_type": "code",
   "execution_count": null,
   "metadata": {},
   "outputs": [],
   "source": [
    "### Loading from the saved datasets.\n",
    "with np.load('../datasets/tiny_performance_datasets.npz') as loaded:\n",
    "    loaded_raw = loaded['raw_perfs']\n",
    "    loaded_diff = loaded['diff_perfs']\n",
    "    \n",
    "print(\"Loaded perfs:\", len(loaded_raw), \"and\", len(loaded_diff))\n",
    "print(\"Num touches:\", np.sum([len(l) for l in loaded_raw]))\n",
    "\n",
    "corpus = []\n",
    "\n",
    "for l in loaded_raw:\n",
    "    corpus.append(l[:,:-1])\n",
    "    \n",
    "    \n",
    "# Plot a bit of the data to have a look:\n",
    "robojam.plot_2D(robojam.perf_array_to_df(random.choice(corpus)))"
   ]
  },
  {
   "cell_type": "markdown",
   "metadata": {},
   "source": [
    "# Setup RNN and Training Data"
   ]
  },
  {
   "cell_type": "code",
   "execution_count": null,
   "metadata": {},
   "outputs": [],
   "source": [
    "# Model Hyperparameters\n",
    "SEQ_LEN = 30\n",
    "HIDDEN_UNITS = 512\n",
    "N_LAYERS = 2\n",
    "NUMBER_MIXTURES = 5\n",
    "TIME_DIST = True\n",
    "\n",
    "# Training Hyperparameters:\n",
    "BATCH_SIZE = 64\n",
    "EPOCHS = 100\n",
    "VAL_SPLIT=0.10\n",
    "\n",
    "# Set random seed for reproducibility\n",
    "SEED = 2345  \n",
    "random.seed(SEED)\n",
    "np.random.seed(SEED)\n",
    "\n",
    "def batch_generator(seq_len, batch_size, dim, corpus):\n",
    "    # Create empty arrays to contain batch of features and labels#\n",
    "    batch_X = np.zeros((batch_size, seq_len, dim))\n",
    "    batch_y = np.zeros((batch_size, dim))\n",
    "    while True:\n",
    "        for i in range(batch_size):\n",
    "            # choose random example\n",
    "            l = random.choice(corpus)\n",
    "            last_index = len(l) - seq_len - 1\n",
    "            start_index = np.random.randint(0, high=last_index)\n",
    "            batch_X[i] = l[start_index:start_index+seq_len]\n",
    "            batch_y[i] = l[start_index+1:start_index+seq_len+1] #.reshape(1,dim)\n",
    "        yield batch_X, batch_y    \n",
    "\n",
    "# Restrict corpus to sequences longer than the corpus.\n",
    "corpus = [l for l in corpus if len(l) > SEQ_LEN+1]\n",
    "print(\"Corpus Examples:\", len(corpus))\n",
    "# Produce the generator for training\n",
    "generator = batch_generator(SEQ_LEN, BATCH_SIZE, 3, corpus)\n",
    "\n",
    "# Functions for slicing up data\n",
    "def slice_sequence_examples(sequence, num_steps):\n",
    "    xs = []\n",
    "    for i in range(len(sequence) - num_steps - 1):\n",
    "        example = sequence[i: i + num_steps]\n",
    "        xs.append(example)\n",
    "    return xs\n",
    "\n",
    "def seq_to_overlapping_format(examples):\n",
    "    \"\"\"Takes sequences of seq_len+1 and returns overlapping\n",
    "    sequences of seq_len.\"\"\"\n",
    "    xs = []\n",
    "    ys = []\n",
    "    for ex in examples:\n",
    "        xs.append(ex[:-1])\n",
    "        ys.append(ex[1:])\n",
    "    return (xs,ys)\n",
    "\n",
    "# Prepare training data as X and Y.\n",
    "slices = []\n",
    "for seq in corpus:\n",
    "    slices +=  slice_sequence_examples(seq, SEQ_LEN+1)\n",
    "X, y = seq_to_overlapping_format(slices)\n",
    "\n",
    "X = np.array(X) * robojam.SCALE_FACTOR\n",
    "y = np.array(y) * robojam.SCALE_FACTOR\n",
    "\n",
    "print(\"Number of training examples:\")\n",
    "print(\"X:\", X.shape)\n",
    "print(\"y:\", y.shape)"
   ]
  },
  {
   "cell_type": "markdown",
   "metadata": {},
   "source": [
    "## Training"
   ]
  },
  {
   "cell_type": "code",
   "execution_count": null,
   "metadata": {
    "scrolled": true
   },
   "outputs": [],
   "source": [
    "# # Setup Training Model\n",
    "# model = build_robojam_model(seq_len=SEQ_LEN, hidden_units=HIDDEN_UNITS, num_mixtures=NUMBER_MIXTURES, layers=2, time_dist=TIME_DIST, inference=False, compile_model=True, print_summary=True)\n",
    "\n",
    "\n",
    "# # Setup callbacks\n",
    "# filepath=\"robojam-model\" + \"-layers\" + str(N_LAYERS) + \"-units\" + str(HIDDEN_UNITS) + \"-mixtures\" + str(NUMBER_MIXTURES) + \"-scale\" + str(SCALE_FACTOR) + \"-E{epoch:02d}-VL{val_loss:.2f}.hdf5\"\n",
    "# checkpoint = keras.callbacks.ModelCheckpoint(filepath, monitor='val_loss', verbose=1, save_best_only=True, mode='min')\n",
    "# terminateOnNaN = keras.callbacks.TerminateOnNaN()\n",
    "# tboard = keras.callbacks.TensorBoard(log_dir='./logs', histogram_freq=2, batch_size=32, write_graph=True, update_freq='epoch')\n",
    "\n",
    "# # Train\n",
    "# history = model.fit(X, y, batch_size=BATCH_SIZE, epochs=EPOCHS, validation_split=VAL_SPLIT, callbacks=[checkpoint,terminateOnNaN, tboard])\n",
    "# #history = model.fit_generator(generator, steps_per_epoch=300, epochs=100, verbose=1, initial_epoch=0)\n",
    "\n",
    "# # Save final Model\n",
    "# #model.save('robojam-model-final.hdf5')  # creates a HDF5 file of the model\n",
    "\n",
    "# # Plot the loss\n",
    "# %matplotlib inline\n",
    "# plt.figure(figsize=(10, 5))\n",
    "# plt.plot(history.history['loss'])\n",
    "# plt.plot(history.history['val_loss'])\n",
    "# plt.xlabel(\"epochs\")\n",
    "# plt.ylabel(\"loss\")\n",
    "# plt.show()"
   ]
  },
  {
   "cell_type": "markdown",
   "metadata": {},
   "source": [
    "# Try out the model\n",
    "\n",
    "- Let's try out the model\n",
    "- First we will load up a decoding model with a sequence length of 1.\n",
    "- The weights are loaded from a the trained model file."
   ]
  },
  {
   "cell_type": "code",
   "execution_count": null,
   "metadata": {},
   "outputs": [],
   "source": [
    "# Decoding Model\n",
    "\n",
    "# Model Hyperparameters\n",
    "SEQ_LEN = 1\n",
    "HIDDEN_UNITS = 512\n",
    "N_LAYERS = 2\n",
    "NUMBER_MIXTURES = 5\n",
    "TIME_DIST = False\n",
    "\n",
    "decoder = robojam.build_robojam_model(seq_len=SEQ_LEN, hidden_units=HIDDEN_UNITS, num_mixtures=NUMBER_MIXTURES, layers=N_LAYERS, time_dist=TIME_DIST, inference=True, compile_model=False, print_summary=True)\n",
    "#decoder.load_weights(\"../robojam-model-layers2-units512-mixtures5-scale10-E13-VL-5.79.hdf5\")\n",
    "decoder.load_weights(\"../models/robojam-metatone-layers2-units512-mixtures5-scale10-E30-VL-5.65.hdf5\")"
   ]
  },
  {
   "cell_type": "markdown",
   "metadata": {},
   "source": [
    "Plotting some conditioned performances.\n",
    "\n",
    "This model seems to work best with a very low temperature for sigma (0.01) and a higher temperature for the categorical distribution (1.5). Might be able to do better with a large dataset, or larger model! (?)"
   ]
  },
  {
   "cell_type": "code",
   "execution_count": null,
   "metadata": {},
   "outputs": [],
   "source": [
    "def plot_3D(perf_df, name=\"foo\", saving=False, figsize=(8,8)):\n",
    "    \"\"\"Plot in 3D\"\"\"\n",
    "    ## Plot in 3D\n",
    "    swipes = robojam.divide_performance_into_swipes(perf_df)\n",
    "    fig = plt.figure(figsize=figsize)\n",
    "    ax = fig.add_subplot(111, projection='3d')\n",
    "    for swipe in swipes:\n",
    "        p = ax.plot(list(swipe.index), list(swipe.x), list(swipe.y), 'o-')\n",
    "        plt.setp(p, color=robojam.gen_colour, linewidth=5.0)\n",
    "    ax.set_ylim(0,1.0)\n",
    "    ax.set_zlim(1.0,0)\n",
    "    ax.set_xlabel('time (s)')\n",
    "    ax.set_ylabel('x')\n",
    "    ax.set_zlabel('y')\n",
    "    if saving:\n",
    "        plt.savefig(name+\".png\", bbox_inches='tight', dpi=300)\n",
    "        plt.close()\n",
    "    else:\n",
    "        plt.show()\n",
    "        \n",
    "def plot_double_3d(perf1, perf2, name=\"foo\", saving=False, figsize=(8,8)):\n",
    "    \"\"\"Plot two performances in 3D\"\"\"\n",
    "    fig = plt.figure(figsize=figsize)\n",
    "    ax = fig.add_subplot(111, projection='3d')\n",
    "    swipes = robojam.divide_performance_into_swipes(perf1)\n",
    "    for swipe in swipes:\n",
    "        p = ax.plot(list(swipe.index), list(swipe.x), list(swipe.y), 'o-')\n",
    "        plt.setp(p, color=robojam.input_colour, linewidth=5.0)\n",
    "    swipes = robojam.divide_performance_into_swipes(perf2)\n",
    "    for swipe in swipes:\n",
    "        p = ax.plot(list(swipe.index), list(swipe.x), list(swipe.y), 'o-')\n",
    "        plt.setp(p, color=robojam.gen_colour, linewidth=5.0)\n",
    "    ax.set_ylim(0,1.0)\n",
    "    ax.set_zlim(1.0,0)\n",
    "    ax.set_xlabel('time (s)')\n",
    "    ax.set_ylabel('x')\n",
    "    ax.set_zlabel('y')\n",
    "    if saving:\n",
    "        plt.savefig(name+\".png\", bbox_inches='tight', dpi=300)\n",
    "        plt.close()\n",
    "    else:\n",
    "        plt.show()"
   ]
  },
  {
   "cell_type": "code",
   "execution_count": null,
   "metadata": {},
   "outputs": [],
   "source": [
    "length = 100\n",
    "# t = random.randint(0,len(microjam_corpus)-length)\n",
    "t = 1000\n",
    "mixture_temp = 1.5\n",
    "sigma_temp = 0.01\n",
    "ex =  random.choice(corpus) #microjam_corpus[t:t+length]  #sequences[600] \n",
    "\n",
    "decoder.reset_states()\n",
    "p = robojam.condition_and_generate(decoder, ex, NUMBER_MIXTURES, temp=mixture_temp, sigma_temp=sigma_temp)\n",
    "robojam.plot_double_2d(robojam.perf_array_to_df(ex), robojam.perf_array_to_df(p), name=\"robojam-perf-cond\", saving=False)\n",
    "\n",
    "plot_double_3d(robojam.perf_array_to_df(ex), robojam.perf_array_to_df(p), name=\"robojam-perf-cond-3d\", saving=False)"
   ]
  },
  {
   "cell_type": "markdown",
   "metadata": {},
   "source": [
    "We can also generate unconditioned performances from a random starting point."
   ]
  },
  {
   "cell_type": "code",
   "execution_count": null,
   "metadata": {
    "scrolled": true
   },
   "outputs": [],
   "source": [
    "decoder.reset_states()\n",
    "mixture_temp = 1.5\n",
    "sigma_temp = 0.01\n",
    "t = robojam.random_touch()\n",
    "p = robojam.generate_random_tiny_performance(decoder, NUMBER_MIXTURES, t, temp=mixture_temp, sigma_temp=sigma_temp)\n",
    "robojam.plot_2D(robojam.perf_array_to_df(p))\n",
    "\n",
    "plot_3D(robojam.perf_array_to_df(p))"
   ]
  },
  {
   "cell_type": "code",
   "execution_count": null,
   "metadata": {},
   "outputs": [],
   "source": [
    "## Generate a number of unconditioned performances\n",
    "NUMBER = 10\n",
    "mixture_temp = 1.5\n",
    "sigma_temp = 0.01\n",
    "centre_point = np.array([0.5, 0.5, 0.1])\n",
    "\n",
    "for i in range(NUMBER):\n",
    "    name = \"robojam-perf-uncond-\" + str(i)\n",
    "    decoder.reset_states()\n",
    "    t = robojam.random_touch()\n",
    "    p = robojam.generate_random_tiny_performance(decoder, NUMBER_MIXTURES, t, temp=mixture_temp, sigma_temp=sigma_temp)\n",
    "    robojam.plot_2D(robojam.perf_array_to_df(p), name=name, saving=True)\n",
    "    plot_3D(robojam.perf_array_to_df(p), name=name+'-3d', saving=True)\n",
    "    print(name)"
   ]
  }
 ],
 "metadata": {
  "kernelspec": {
   "display_name": "Python 3",
   "language": "python",
   "name": "python3"
  },
  "language_info": {
   "codemirror_mode": {
    "name": "ipython",
    "version": 3
   },
   "file_extension": ".py",
   "mimetype": "text/x-python",
   "name": "python",
   "nbconvert_exporter": "python",
   "pygments_lexer": "ipython3",
   "version": "3.6.7"
  }
 },
 "nbformat": 4,
 "nbformat_minor": 2
}
