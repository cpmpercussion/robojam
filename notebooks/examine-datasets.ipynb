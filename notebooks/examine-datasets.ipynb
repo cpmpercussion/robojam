{
 "cells": [
  {
   "cell_type": "markdown",
   "metadata": {},
   "source": [
    "# Examining Datasets for Training Robojam\n",
    "\n"
   ]
  },
  {
   "cell_type": "code",
   "execution_count": null,
   "metadata": {},
   "outputs": [],
   "source": [
    "import keras\n",
    "from keras import backend as K\n",
    "from keras.layers import Dense, Input\n",
    "import numpy as np\n",
    "import tensorflow as tf\n",
    "import math\n",
    "import h5py\n",
    "import random\n",
    "import time\n",
    "import pandas as pd\n",
    "from context import * # imports MDN\n",
    "import matplotlib.pyplot as plt\n",
    "%matplotlib inline\n",
    "\n",
    "input_colour = 'darkblue'\n",
    "gen_colour = 'firebrick'\n",
    "plt.style.use('seaborn-talk')"
   ]
  },
  {
   "cell_type": "code",
   "execution_count": null,
   "metadata": {},
   "outputs": [],
   "source": [
    "### Test Loading from the saved datafile.\n",
    "with np.load('../datasets/tiny_performance_datasets.npz') as loaded:\n",
    "    loaded_raw = loaded['raw_perfs']\n",
    "    loaded_diff = loaded['diff_perfs']\n",
    "    \n",
    "print(\"Loaded perfs:\", len(loaded_raw), \"and\", len(loaded_diff))\n",
    "print(\"Num touches:\", np.sum([len(l) for l in loaded_raw]))\n",
    "\n",
    "corpus = []\n",
    "\n",
    "for l in loaded_raw:\n",
    "    corpus.append(l[:,:-1])\n",
    "    \n",
    "    \n",
    "# Plot a bit of the data to have a look:\n",
    "plot_2D(perf_array_to_df(random.choice(corpus)))"
   ]
  }
 ],
 "metadata": {
  "kernelspec": {
   "display_name": "Python 3",
   "language": "python",
   "name": "python3"
  },
  "language_info": {
   "codemirror_mode": {
    "name": "ipython",
    "version": 3
   },
   "file_extension": ".py",
   "mimetype": "text/x-python",
   "name": "python",
   "nbconvert_exporter": "python",
   "pygments_lexer": "ipython3",
   "version": "3.7.1"
  }
 },
 "nbformat": 4,
 "nbformat_minor": 2
}
