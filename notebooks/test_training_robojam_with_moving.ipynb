{
 "cells": [
  {
   "cell_type": "code",
   "execution_count": null,
   "metadata": {},
   "outputs": [],
   "source": [
    "import keras\n",
    "from keras import backend as K\n",
    "from keras.layers import Dense, Input\n",
    "import numpy as np\n",
    "import tensorflow as tf\n",
    "import math\n",
    "import h5py\n",
    "import random\n",
    "import time\n",
    "import pandas as pd\n",
    "from context import * # imports MDN\n",
    "import matplotlib.pyplot as plt\n",
    "from mpl_toolkits.mplot3d import Axes3D\n",
    "%matplotlib inline\n",
    "\n",
    "# Set up environment.\n",
    "# Only for GPU use:\n",
    "import os\n",
    "os.environ[\"CUDA_VISIBLE_DEVICES\"]=\"1\"\n",
    "\n",
    "import tensorflow as tf\n",
    "config = tf.ConfigProto()\n",
    "config.gpu_options.allow_growth = True\n",
    "sess = tf.Session(config=config)\n",
    "from keras import backend as K\n",
    "K.set_session(sess)"
   ]
  },
  {
   "cell_type": "code",
   "execution_count": null,
   "metadata": {},
   "outputs": [],
   "source": [
    "### Loading from the saved datasets.\n",
    "with np.load('../datasets/tiny_performance_datasets.npz') as loaded:\n",
    "    loaded_raw = loaded['raw_perfs']\n",
    "    loaded_diff = loaded['diff_perfs']\n",
    "    \n",
    "print(\"Loaded perfs:\", len(loaded_raw), \"and\", len(loaded_diff))\n",
    "print(\"Num touches:\", np.sum([len(l) for l in loaded_raw]))\n",
    "\n",
    "corpus = []\n",
    "\n",
    "for l in loaded_raw:\n",
    "    corpus.append(l[:,:])\n",
    "    \n",
    "    \n",
    "# Plot a bit of the data to have a look:\n",
    "robojam.plot_2D(robojam.perf_array_to_df(random.choice(corpus)))"
   ]
  },
  {
   "cell_type": "code",
   "execution_count": null,
   "metadata": {},
   "outputs": [],
   "source": [
    "# Model Hyperparameters:\n",
    "HIDDEN_UNITS = 128\n",
    "N_LAYERS = 2\n",
    "NUMBER_MIXTURES = 5\n",
    "TIME_DIST = False\n",
    "\n",
    "# Data Hyperparameters:\n",
    "SEQ_LEN = 30\n",
    "SEQ_STEP = 2\n",
    "\n",
    "# Training Hyperparameters:\n",
    "BATCH_SIZE = 64\n",
    "EPOCHS = 30\n",
    "VAL_SPLIT = 0.10\n",
    "\n",
    "# Set random seed for reproducibility\n",
    "SEED = 2345\n",
    "random.seed(SEED)\n",
    "np.random.seed(SEED)\n",
    "\n",
    "# Restrict corpus to sequences longer than the corpus.\n",
    "corpus = [l for l in corpus if len(l) > SEQ_LEN+1]\n",
    "print(\"Corpus Examples:\", len(corpus))\n",
    "\n",
    "# Prepare training data as X and Y.\n",
    "slices = []\n",
    "for seq in corpus:\n",
    "    slices += robojam.slice_sequence_examples(seq, SEQ_LEN+1, step_size=SEQ_STEP)\n",
    "\n",
    "if TIME_DIST:\n",
    "    X, y = robojam.seq_to_overlapping_format(slices)\n",
    "else:\n",
    "    X, y = robojam.seq_to_singleton_format(slices)\n",
    "\n",
    "X = np.array(X) * robojam.SCALE_FACTOR\n",
    "y = np.array(y) * robojam.SCALE_FACTOR\n",
    "\n",
    "print(\"Number of training examples:\")\n",
    "print(\"X:\", X.shape)\n",
    "print(\"y:\", y.shape)"
   ]
  },
  {
   "cell_type": "code",
   "execution_count": null,
   "metadata": {},
   "outputs": [],
   "source": [
    "# Setup Training Model\n",
    "model = robojam.build_robojam_model(seq_len=SEQ_LEN, hidden_units=HIDDEN_UNITS, num_mixtures=NUMBER_MIXTURES, layers=2, time_dist=TIME_DIST, inference=False, compile_model=True, print_summary=True, predict_moving=True)"
   ]
  },
  {
   "cell_type": "code",
   "execution_count": null,
   "metadata": {},
   "outputs": [],
   "source": [
    "# Setup callbacks\n",
    "model_path = \"robojam-4D\" + \"-layers\" + str(N_LAYERS) + \"-units\" + str(HIDDEN_UNITS) + \"-mixtures\" + str(NUMBER_MIXTURES) + \"-scale\" + str(robojam.SCALE_FACTOR)\n",
    "filepath = model_path + \"-E{epoch:02d}-VL{val_loss:.2f}.hdf5\"\n",
    "checkpoint = keras.callbacks.ModelCheckpoint(filepath, monitor='val_loss', verbose=1, save_best_only=True, mode='min')\n",
    "terminateOnNaN = keras.callbacks.TerminateOnNaN()\n",
    "tboard = keras.callbacks.TensorBoard(log_dir='../logs/'+model_path, update_freq='epoch')\n",
    "callbacks = [checkpoint, terminateOnNaN, tboard]\n",
    "# Train\n",
    "history = model.fit(X, y, batch_size=BATCH_SIZE, epochs=EPOCHS, validation_split=VAL_SPLIT, callbacks=callbacks)\n",
    "#history = model.fit_generator(generator, steps_per_epoch=300, epochs=100, verbose=1, initial_epoch=0)\n",
    "\n",
    "# Save final Model\n",
    "# model.save('robojam-model-final.hdf5')  # creates a HDF5 file of the model\n",
    "\n",
    "# Plot the loss\n"
   ]
  },
  {
   "cell_type": "code",
   "execution_count": null,
   "metadata": {},
   "outputs": [],
   "source": [
    "%matplotlib inline\n",
    "plt.figure(figsize=(10, 5))\n",
    "plt.plot(history.history['loss'])\n",
    "plt.plot(history.history['val_loss'])\n",
    "plt.xlabel(\"epochs\")\n",
    "plt.ylabel(\"loss\")\n",
    "plt.show()"
   ]
  },
  {
   "cell_type": "code",
   "execution_count": null,
   "metadata": {},
   "outputs": [],
   "source": [
    "model_file = \"robojam-tinyperf-layers2-units32-mixtures5-scale10-E03-VL-0.75.hdf5\"\n",
    "\n",
    "decoder = robojam.build_robojam_model(seq_len=SEQ_LEN, hidden_units=HIDDEN_UNITS, num_mixtures=NUMBER_MIXTURES, layers=N_LAYERS, time_dist=TIME_DIST, inference=True, compile_model=False, print_summary=True,  predict_moving=True)\n",
    "#decoder.load_weights(\"../robojam-model-layers2-units512-mixtures5-scale10-E13-VL-5.79.hdf5\")\n",
    "decoder.load_weights(model_file)"
   ]
  },
  {
   "cell_type": "code",
   "execution_count": null,
   "metadata": {},
   "outputs": [],
   "source": [
    "length = 100\n",
    "# t = random.randint(0,len(microjam_corpus)-length)\n",
    "t = 1000\n",
    "mixture_temp = 1.5\n",
    "sigma_temp = 0.01\n",
    "ex =  random.choice(corpus) #microjam_corpus[t:t+length]  #sequences[600] \n",
    "\n",
    "decoder.reset_states()\n",
    "p = robojam.condition_and_generate(decoder, ex, NUMBER_MIXTURES, temp=mixture_temp, sigma_temp=sigma_temp,  predict_moving=True)\n",
    "robojam.plot_double_2d(robojam.perf_array_to_df(ex), robojam.perf_array_to_df(p), name=\"robojam-perf-cond\", saving=False)\n",
    "\n",
    "#plot_double_3d(robojam.perf_array_to_df(ex), robojam.perf_array_to_df(p), name=\"robojam-perf-cond-3d\", saving=False)"
   ]
  },
  {
   "cell_type": "code",
   "execution_count": null,
   "metadata": {},
   "outputs": [],
   "source": [
    "decoder.reset_states()\n",
    "mixture_temp = 1.5\n",
    "sigma_temp = 0.0\n",
    "t = robojam.random_touch(with_moving=True)\n",
    "p = robojam.generate_random_tiny_performance(decoder, NUMBER_MIXTURES, t, temp=mixture_temp, sigma_temp=sigma_temp,  predict_moving=True)\n",
    "robojam.plot_2D(robojam.perf_array_to_df(p))\n",
    "\n",
    "#plot_3D(robojam.perf_array_to_df(p))"
   ]
  }
 ],
 "metadata": {
  "kernelspec": {
   "display_name": "Python 3",
   "language": "python",
   "name": "python3"
  },
  "language_info": {
   "codemirror_mode": {
    "name": "ipython",
    "version": 3
   },
   "file_extension": ".py",
   "mimetype": "text/x-python",
   "name": "python",
   "nbconvert_exporter": "python",
   "pygments_lexer": "ipython3",
   "version": "3.6.5"
  }
 },
 "nbformat": 4,
 "nbformat_minor": 2
}
