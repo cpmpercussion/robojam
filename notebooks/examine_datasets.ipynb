{
 "cells": [
  {
   "cell_type": "markdown",
   "metadata": {},
   "source": [
    "# Examining Datasets for Training Robojam\n",
    "\n"
   ]
  },
  {
   "cell_type": "code",
   "execution_count": null,
   "metadata": {},
   "outputs": [],
   "source": [
    "import numpy as np\n",
    "import math\n",
    "import h5py\n",
    "import random\n",
    "import time\n",
    "import pandas as pd\n",
    "import matplotlib.pyplot as plt\n",
    "%matplotlib inline\n",
    "plt.style.use('seaborn-talk')\n",
    "from context import *\n",
    "from robojam import performance_plotters"
   ]
  },
  {
   "cell_type": "code",
   "execution_count": null,
   "metadata": {},
   "outputs": [],
   "source": [
    "### Test Loading from the saved datafile.\n",
    "with np.load('../datasets/tiny_performance_datasets.npz', allow_pickle=True) as loaded:\n",
    "    loaded_raw = loaded['raw_perfs']\n",
    "    loaded_diff = loaded['diff_perfs']\n",
    "    \n",
    "print(\"Loaded perfs:\", len(loaded_raw), \"and\", len(loaded_diff))\n",
    "print(\"Num touches:\", np.sum([len(l) for l in loaded_raw]))\n",
    "\n",
    "corpus = []\n",
    "\n",
    "for l in loaded_raw:\n",
    "    corpus.append(l[:,:-1])\n",
    "    \n",
    "    \n",
    "# Plot a bit of the data to have a look:\n",
    "performance_plotters.plot_2D(robojam.perf_array_to_df(random.choice(corpus)))"
   ]
  },
  {
   "cell_type": "code",
   "execution_count": null,
   "metadata": {},
   "outputs": [],
   "source": [
    "display(random.choice(loaded_raw)[:15])\n",
    "#display(random.choice(metatone_raw)[:15])"
   ]
  },
  {
   "cell_type": "code",
   "execution_count": null,
   "metadata": {},
   "outputs": [],
   "source": [
    "# The performances have shape (n, 4) \n",
    "# where n is the number of touch events\n",
    "# the 4 entries in each row are:\n",
    "# 0. x position (or dx)\n",
    "# 1. y position (or dy)\n",
    "# 2. z pressure (or dz)\n",
    "# 3. moving (0 for touch down or 1 for moving)\n",
    "random.choice(loaded_raw)[:15].shape"
   ]
  },
  {
   "cell_type": "code",
   "execution_count": null,
   "metadata": {},
   "outputs": [],
   "source": [
    "performance_plotters.plot_2D(robojam.perf_array_to_df(random.choice(loaded_raw)))"
   ]
  },
  {
   "cell_type": "code",
   "execution_count": null,
   "metadata": {},
   "outputs": [],
   "source": [
    "### Test Loading from the saved datafile.\n",
    "with np.load('../datasets/metatone_dataset.npz', allow_pickle=True) as loaded:\n",
    "    metatone_raw = loaded['raw_perfs']\n",
    "    metatone_diff = loaded['diff_perfs']\n",
    "    \n",
    "print(\"Loaded perfs:\", len(metatone_raw), \"and\", len(metatone_diff))\n",
    "print(\"Num touches:\", np.sum([len(l) for l in metatone_raw]))\n",
    "\n",
    "corpus = []\n",
    "\n",
    "for l in metatone_raw:\n",
    "    corpus.append(l[:,:-1])"
   ]
  },
  {
   "cell_type": "code",
   "execution_count": null,
   "metadata": {},
   "outputs": [],
   "source": [
    "# Plot a bit of the data to have a look:\n",
    "performance_plotters.plot_2D(robojam.perf_array_to_df(random.choice(corpus)))"
   ]
  },
  {
   "cell_type": "code",
   "execution_count": null,
   "metadata": {},
   "outputs": [],
   "source": [
    "p = random.choice(loaded_raw)\n",
    "len(p.T)"
   ]
  },
  {
   "cell_type": "code",
   "execution_count": null,
   "metadata": {},
   "outputs": [],
   "source": [
    "SEQ_LEN = 100\n",
    "STP_SIZE = 10\n",
    "corpus = metatone_raw\n",
    "\n",
    "# Restrict corpus to sequences longer than the corpus.\n",
    "corpus = [l for l in corpus if len(l) > SEQ_LEN+1]\n",
    "print(\"Corpus Examples:\", len(corpus))\n",
    "\n",
    "# Prepare training data as X and Y.\n",
    "slices = []\n",
    "for seq in corpus:\n",
    "    slices += robojam.slice_sequence_examples(seq, SEQ_LEN+1, step_size=STP_SIZE)\n",
    "\n",
    "X, y = robojam.seq_to_overlapping_format(slices)\n",
    "\n",
    "X = np.array(X) * robojam.SCALE_FACTOR\n",
    "y = np.array(y) * robojam.SCALE_FACTOR\n",
    "\n",
    "print(\"Number of training examples:\")\n",
    "print(\"X:\", X.shape)\n",
    "print(\"y:\", y.shape)\n"
   ]
  },
  {
   "cell_type": "code",
   "execution_count": null,
   "metadata": {},
   "outputs": [],
   "source": [
    "corpus = [0, 1, 2, 3, 4, 5, 6, 7, 8, 9]\n",
    "print(len(corpus))\n",
    "robojam.slice_sequence_examples(corpus, 3, step_size=2)"
   ]
  }
 ],
 "metadata": {
  "kernelspec": {
   "display_name": "Python 3",
   "language": "python",
   "name": "python3"
  },
  "language_info": {
   "codemirror_mode": {
    "name": "ipython",
    "version": 3
   },
   "file_extension": ".py",
   "mimetype": "text/x-python",
   "name": "python",
   "nbconvert_exporter": "python",
   "pygments_lexer": "ipython3",
   "version": "3.7.4"
  }
 },
 "nbformat": 4,
 "nbformat_minor": 2
}
